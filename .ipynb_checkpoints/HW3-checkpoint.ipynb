{
 "cells": [
  {
   "cell_type": "code",
   "execution_count": 1,
   "metadata": {},
   "outputs": [],
   "source": [
    "import numpy as np\n",
    "from scipy.stats import norm"
   ]
  },
  {
   "cell_type": "code",
   "execution_count": 1,
   "metadata": {},
   "outputs": [],
   "source": []
  },
  {
   "cell_type": "code",
   "execution_count": 1,
   "metadata": {},
   "outputs": [],
   "source": []
  },
  {
   "cell_type": "code",
   "execution_count": 2,
   "metadata": {},
   "outputs": [],
   "source": [
    "def bsmCallDelta(spot, strike, vol, rate, tau, div):\n",
    "    d1 = (np.log(spot / strike) + (rate - div + 0.5 * vol * vol) * tau) / (vol * np.sqrt(tau))\n",
    "    delta = np.exp(-div * tau) * norm.cdf(d1)\n",
    "    \n",
    "    return delta"
   ]
  },
  {
   "cell_type": "code",
   "execution_count": 3,
   "metadata": {},
   "outputs": [],
   "source": [
    "def bsmPutDelta(spot, strike, vol, rate, tau, div):\n",
    "    d1 = (np.log(spot / strike) + (rate - div + 0.5 * vol * vol) * tau) / (vol * np.sqrt(tau))\n",
    "    delta = np.exp(-div * tau) * norm.cdf(-d1)\n",
    "\n",
    "    return delta"
   ]
  },
  {
   "cell_type": "code",
   "execution_count": 14,
   "metadata": {},
   "outputs": [],
   "source": [
    "def bsmCallGamma(spot, strike, vol, rate, tau, div):\n",
    "    d1 = (np.log(spot / strike) + (rate - div + 0.5 * vol * vol) * tau) / (vol * np.sqrt(tau))\n",
    "    gamma = (np.exp(-div * tau) * norm.cdf(-d1))/(So*(np.sqrt(div * tau)))\n",
    "\n",
    "    return gamma"
   ]
  },
  {
   "cell_type": "code",
   "execution_count": 6,
   "metadata": {},
   "outputs": [],
   "source": [
    "def bsmPutGamma(spot, strike, vol, rate, tau, div):\n",
    "    d1 = (np.log(spot / strike) + (rate - div + 0.5 * vol * vol) * tau) / (vol * np.sqrt(tau))\n",
    "    gamma = (np.exp(-div * tau) * norm.cdf(-d1))/(So*(np.sqrt(div * tau)))\n",
    "\n",
    "    return gamma"
   ]
  },
  {
   "cell_type": "code",
   "execution_count": 12,
   "metadata": {},
   "outputs": [],
   "source": [
    "def bsmCallTheta(spot, strike, vol, rate, tau, div):\n",
    "    d1 = (np.log(spot / strike) + (rate - div + 0.5 * vol * vol) * tau) / (vol * np.sqrt(tau))\n",
    "    d2= d1 - (vol * np.sqrt(expiry))\n",
    "    part2 =(K*np.exp(-r(-div * tau))*norm.dcd(d2)*o)/(2*np.sqrt(-div * tau))  \n",
    "    theta = oS* np.exp(-div * tau) * norm.cdf(-d1)-r*K*np.exp(-r(-div * tau))*norm.cdf(d2)- (part2)                                                                           \n",
    "                                                                                            \n",
    "    return thteta"
   ]
  },
  {
   "cell_type": "code",
   "execution_count": 13,
   "metadata": {},
   "outputs": [],
   "source": [
    "def bsmPutTheta(spot, strike, vol, rate, tau, div):\n",
    "    d1 = (np.log(spot / strike) + (rate - div + 0.5 * vol * vol) * tau) / (vol * np.sqrt(tau))\n",
    "    d2= d1 - (vol * np.sqrt(expiry))\n",
    "    part2 =(K*np.exp(-r(-div * tau))*norm.dcd(d2)*o)/(2*np.sqrt(-div * tau))  \n",
    "    theta = oS* np.exp(-div * tau) * norm.cdf(-d1)-r*K*np.exp(-r(-div * tau))*norm.cdf(d2)- (part2)+ r*K* np.exp(-r(-div * tau))- o *S * np.exp(-div * tau)                                                                          \n",
    "                                                                                            \n",
    "    return thteta"
   ]
  },
  {
   "cell_type": "code",
   "execution_count": 15,
   "metadata": {},
   "outputs": [],
   "source": [
    "def bsmCallVega(spot, strike, vol, rate, tau, div):\n",
    "    d1 = (np.log(spot / strike) + (rate - div + 0.5 * vol * vol) * tau) / (vol * np.sqrt(tau))\n",
    "    vega = S* np.exp(-div * tau)* norm.cdf(d1)* np.sqrt(-div * tau) \n",
    "\n",
    "    return gamma"
   ]
  },
  {
   "cell_type": "code",
   "execution_count": null,
   "metadata": {},
   "outputs": [],
   "source": []
  }
 ],
 "metadata": {
  "kernelspec": {
   "display_name": "Python 3",
   "language": "python",
   "name": "python3"
  },
  "language_info": {
   "codemirror_mode": {
    "name": "ipython",
    "version": 3
   },
   "file_extension": ".py",
   "mimetype": "text/x-python",
   "name": "python",
   "nbconvert_exporter": "python",
   "pygments_lexer": "ipython3",
   "version": "3.6.5"
  }
 },
 "nbformat": 4,
 "nbformat_minor": 2
}
