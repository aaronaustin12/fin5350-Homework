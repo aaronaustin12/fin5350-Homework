{
 "cells": [
  {
   "cell_type": "markdown",
   "metadata": {},
   "source": [
    "Problem 1\n",
    "A : Problem 1\n",
    "Let S = $100, K = $105, r = 8%, T = 0.5, and δ = 0.0. Let u = 1.3, d = 0.8, and n = 1.\n",
    "a. What are the premium, ∆, and B for a European call?\n"
   ]
  },
  {
   "cell_type": "code",
   "execution_count": 41,
   "metadata": {},
   "outputs": [],
   "source": [
    "import numpy as np\n",
    "\n",
    "\n",
    "def callPayoff(spot, strike):\n",
    "    return np.maximum(spot - strike, 0.0)\n",
    "\n",
    "\n",
    "def putPayoff(spot, strike):\n",
    "    return np.maximum(strike - spot, 0.0)\n"
   ]
  },
  {
   "cell_type": "code",
   "execution_count": 13,
   "metadata": {},
   "outputs": [],
   "source": [
    "r = 0.08       ## time step \n",
    "v = 0.50       ## volatility\n",
    "q = 0.0        ## dividend\n",
    "expiry = 1.0\n",
    "n = 1.0        ## periods\n",
    "h = expiry / n \n",
    "S = 100.0      ## spot price\n",
    "K = 105.0       ## strike price\n",
    "\n",
    "u = 1.3\n",
    "d = .8"
   ]
  },
  {
   "cell_type": "code",
   "execution_count": 38,
   "metadata": {},
   "outputs": [
    {
     "name": "stdout",
     "output_type": "stream",
     "text": [
      "18.3054846023484 0.7 -51.6945153976516\n"
     ]
    }
   ],
   "source": [
    "fu = callPayoff(u * S, K)\n",
    "fd = callPayoff(d * S, K)\n",
    "D = (fu - fd)/(S * (u - d))                        ## Delta\n",
    "B = np.exp(-r * h) * ((u * fd - d * fu)/ (u - d))  ## B \n",
    "Premium = S * D + B                                ##Premium\n",
    "\n",
    "print(Premium, D, B)\n"
   ]
  },
  {
   "cell_type": "markdown",
   "metadata": {},
   "source": [
    "Problem b. What are the premium, ∆, and B for a European put?"
   ]
  },
  {
   "cell_type": "code",
   "execution_count": 18,
   "metadata": {},
   "outputs": [],
   "source": [
    "r = 0.08       ## time step \n",
    "v = 0.50       ## volatility\n",
    "q = 0.0        ## dividend\n",
    "expiry = 1.0\n",
    "n = 1.0        ## periods\n",
    "h = expiry / n \n",
    "S = 100.0      ## spot price\n",
    "K = 105.0       ## strike price\n",
    "\n",
    "u = 1.3\n",
    "d = .8"
   ]
  },
  {
   "cell_type": "code",
   "execution_count": 20,
   "metadata": {},
   "outputs": [
    {
     "name": "stdout",
     "output_type": "stream",
     "text": [
      "10.002562515131324 -0.5 60.00256251513132\n"
     ]
    }
   ],
   "source": [
    "fu = putPayoff(u * S, K)\n",
    "fd = putPayoff(d * S, K)\n",
    "D = (fu - fd)/(S * (u - d))                        ## Delta\n",
    "B = np.exp(-r * h) * ((u * fd - d * fu)/ (u - d))  ## B \n",
    "Premium = S * D + B                                ##Premium\n",
    "\n",
    "print(Premium, D, B)\n"
   ]
  },
  {
   "cell_type": "markdown",
   "metadata": {},
   "source": [
    "Problem 2 A Problem 2\n",
    "Let S = $100, K = $95, r = 8%, T = 0.5, and δ = 0.0. Let u = 1.3, d = 0.8, and n = 1.\n",
    "a. Verify that the price of a European put is $7.471"
   ]
  },
  {
   "cell_type": "code",
   "execution_count": 24,
   "metadata": {},
   "outputs": [],
   "source": [
    "r = 0.08       ## time step \n",
    "v = 0.50       ## volatility\n",
    "q = 0.0        ## dividend\n",
    "expiry = 1.0\n",
    "n = 1.0        ## periods\n",
    "h = expiry / n \n",
    "S = 100.0      ## spot price\n",
    "K = 95.0       ## strike price\n",
    "\n",
    "u = 1.3\n",
    "d = .8"
   ]
  },
  {
   "cell_type": "code",
   "execution_count": 26,
   "metadata": {},
   "outputs": [
    {
     "name": "stdout",
     "output_type": "stream",
     "text": [
      "6.001537509078794\n"
     ]
    }
   ],
   "source": [
    "fu = putPayoff(u * S, K)\n",
    "fd = putPayoff(d * S, K)\n",
    "D = (fu - fd)/(S * (u - d))                        ## Delta\n",
    "B = np.exp(-r * h) * ((u * fd - d * fu)/ (u - d))  ## B \n",
    "Premium = S * D + B                                ##Premium\n",
    "\n",
    "print(Premium,)\n",
    "#This is wrong. you need to look and fix it"
   ]
  },
  {
   "cell_type": "markdown",
   "metadata": {},
   "source": [
    "Problem 2 B Suppose you observe a call price of $17. What is the arbitrage?"
   ]
  },
  {
   "cell_type": "code",
   "execution_count": 37,
   "metadata": {},
   "outputs": [
    {
     "name": "stdout",
     "output_type": "stream",
     "text": [
      "1.3054846023484004\n"
     ]
    }
   ],
   "source": [
    "fu = callPayoff(u * S, K)\n",
    "fd = callPayoff(d * S, K)\n",
    "D = (fu - fd)/(S * (u - d))                        ## Delta\n",
    "B = np.exp(-r * h) * ((u * fd - d * fu)/ (u - d))  ## B \n",
    "Premium = S * D + B                                ##Premium\n",
    "arbitrage = Premium - 17\n",
    "print(arbitrage )"
   ]
  },
  {
   "cell_type": "markdown",
   "metadata": {},
   "source": [
    "Problem 2 C Suppose you observe a call price of $15.50. What is the arbitrage?"
   ]
  },
  {
   "cell_type": "code",
   "execution_count": 40,
   "metadata": {},
   "outputs": [
    {
     "name": "stdout",
     "output_type": "stream",
     "text": [
      "2.8054846023484004\n"
     ]
    }
   ],
   "source": [
    "fu = callPayoff(u * S, K)\n",
    "fd = callPayoff(d * S, K)\n",
    "D = (fu - fd)/(S * (u - d))                        ## Delta\n",
    "B = np.exp(-r * h) * ((u * fd - d * fu)/ (u - d))  ## B \n",
    "Premium = S * D + B                                ##Premium\n",
    "arbitrage = Premium - 15.5\n",
    "print(arbitrage)"
   ]
  },
  {
   "cell_type": "markdown",
   "metadata": {},
   "source": [
    "Problem 3\n",
    "Let S = $100, K = $95, σ = 30%, r = 8%, T = 1, and δ = 0.0. Let u = 1.3, d = 0.8, and n = 2. Construct\n",
    "the binomial tree for a call option. At each node provide the premium, ∆, and B.\n"
   ]
  },
  {
   "cell_type": "code",
   "execution_count": 53,
   "metadata": {},
   "outputs": [],
   "source": [
    "S = 100.0\n",
    "K = 95.0\n",
    "r = 0.08\n",
    "v = 1\n",
    "q = 0.0\n",
    "T = 1\n",
    "n = 2\n",
    "h = T / n\n",
    "u = np.exp((r - q) * h + v * np.sqrt(h))\n",
    "d = np.exp((r - q) * h - v * np.sqrt(h))\n",
    "pstar = (np.exp((r - q) * h) - d) / (u - d) "
   ]
  },
  {
   "cell_type": "code",
   "execution_count": null,
   "metadata": {},
   "outputs": [],
   "source": []
  },
  {
   "cell_type": "code",
   "execution_count": 45,
   "metadata": {},
   "outputs": [],
   "source": [
    "from scipy.stats import binom"
   ]
  },
  {
   "cell_type": "code",
   "execution_count": null,
   "metadata": {},
   "outputs": [],
   "source": []
  },
  {
   "cell_type": "code",
   "execution_count": 49,
   "metadata": {},
   "outputs": [],
   "source": [
    "def binomialPricer(S, K, r, v, q, T, n, payoff, verbose = True):\n",
    "    nodes = n  + 1\n",
    "    h = T / n\n",
    "    u = np.exp((r - q) * h + v * np.sqrt(h))\n",
    "    d = np.exp((r - q) * h - v * np.sqrt(h))\n",
    "    pstar = (np.exp((r - q) * h) - d) / (u - d)\n",
    "    \n",
    "    price = 0.0\n",
    "    \n",
    "    for i in range(nodes):\n",
    "        prob = binom.pmf(i, n, pstar)\n",
    "        spotT = S * (u ** i) * (d ** (n - i))\n",
    "        po = payoff(spotT, K) \n",
    "        price += po * prob\n",
    "        if verbose:\n",
    "            print(f\"({spotT:0.4f}, {po:0.4f}, {prob:0.4f})\")\n",
    "        \n",
    "    price *= np.exp(-r * T)\n",
    "    \n",
    "    return price\n",
    "    "
   ]
  },
  {
   "cell_type": "code",
   "execution_count": 54,
   "metadata": {},
   "outputs": [
    {
     "name": "stdout",
     "output_type": "stream",
     "text": [
      "(26.3365, 0.0000, 0.4486)\n",
      "(108.3287, 13.3287, 0.4424)\n",
      "(445.5831, 350.5831, 0.1091)\n"
     ]
    },
    {
     "data": {
      "text/plain": [
       "40.73694581403423"
      ]
     },
     "execution_count": 54,
     "metadata": {},
     "output_type": "execute_result"
    }
   ],
   "source": [
    "binomialPricer(S, K, r, v, q, expiry, n, callPayoff)"
   ]
  }
 ],
 "metadata": {
  "kernelspec": {
   "display_name": "Python 3",
   "language": "python",
   "name": "python3"
  },
  "language_info": {
   "codemirror_mode": {
    "name": "ipython",
    "version": 3
   },
   "file_extension": ".py",
   "mimetype": "text/x-python",
   "name": "python",
   "nbconvert_exporter": "python",
   "pygments_lexer": "ipython3",
   "version": "3.6.5"
  }
 },
 "nbformat": 4,
 "nbformat_minor": 2
}
