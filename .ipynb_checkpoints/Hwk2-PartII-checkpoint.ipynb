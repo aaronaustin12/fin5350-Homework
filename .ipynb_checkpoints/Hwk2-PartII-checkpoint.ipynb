{
 "cells": [
  {
   "cell_type": "markdown",
   "metadata": {},
   "source": [
    "Problem 1\n",
    "A : Problem 1\n",
    "Let S = $100, K = $105, r = 8%, T = 0.5, and δ = 0.0. Let u = 1.3, d = 0.8, and n = 1.\n",
    "a. What are the premium, ∆, and B for a European call?\n"
   ]
  },
  {
   "cell_type": "code",
   "execution_count": 62,
   "metadata": {},
   "outputs": [],
   "source": [
    "import numpy as np\n",
    "\n",
    "\n",
    "def callPayoff(spot, strike):\n",
    "    return np.maximum(spot - strike, 0.0)\n",
    "\n",
    "\n",
    "def putPayoff(spot, strike):\n",
    "    return np.maximum(strike - spot, 0.0)\n"
   ]
  },
  {
   "cell_type": "code",
   "execution_count": 63,
   "metadata": {},
   "outputs": [],
   "source": [
    "r = 0.08       ## time step \n",
    "v = 0.50       ## volatility\n",
    "q = 0.0        ## dividend\n",
    "expiry = 1.0\n",
    "n = 1.0        ## periods\n",
    "h = expiry / n \n",
    "S = 100.0      ## spot price\n",
    "K = 105.0       ## strike price\n",
    "\n",
    "u = 1.3\n",
    "d = .8"
   ]
  },
  {
   "cell_type": "code",
   "execution_count": 64,
   "metadata": {},
   "outputs": [
    {
     "name": "stdout",
     "output_type": "stream",
     "text": [
      "13.07534614453457 0.5 -36.92465385546543\n"
     ]
    }
   ],
   "source": [
    "fu = callPayoff(u * S, K)\n",
    "fd = callPayoff(d * S, K)\n",
    "D = (fu - fd)/(S * (u - d))                        ## Delta\n",
    "B = np.exp(-r * h) * ((u * fd - d * fu)/ (u - d))  ## B \n",
    "Premium = S * D + B                                ##Premium\n",
    "\n",
    "print(Premium, D, B)\n"
   ]
  },
  {
   "cell_type": "markdown",
   "metadata": {},
   "source": [
    "Problem b. What are the premium, ∆, and B for a European put?"
   ]
  },
  {
   "cell_type": "code",
   "execution_count": 65,
   "metadata": {},
   "outputs": [],
   "source": [
    "r = 0.08       ## time step \n",
    "v = 0.50       ## volatility\n",
    "q = 0.0        ## dividend\n",
    "expiry = 1.0\n",
    "n = 1.0        ## periods\n",
    "h = expiry / n \n",
    "S = 100.0      ## spot price\n",
    "K = 105.0       ## strike price\n",
    "\n",
    "u = 1.3\n",
    "d = .8"
   ]
  },
  {
   "cell_type": "code",
   "execution_count": 66,
   "metadata": {},
   "outputs": [
    {
     "name": "stdout",
     "output_type": "stream",
     "text": [
      "10.002562515131324 -0.5 60.00256251513132\n"
     ]
    }
   ],
   "source": [
    "fu = putPayoff(u * S, K)\n",
    "fd = putPayoff(d * S, K)\n",
    "D = (fu - fd)/(S * (u - d))                        ## Delta\n",
    "B = np.exp(-r * h) * ((u * fd - d * fu)/ (u - d))  ## B \n",
    "Premium = S * D + B                                ##Premium\n",
    "\n",
    "print(Premium, D, B)\n"
   ]
  },
  {
   "cell_type": "markdown",
   "metadata": {},
   "source": [
    "Problem 2 A Problem 2\n",
    "Let S = $100, K = $95, r = 8%, T = 0.5, and δ = 0.0. Let u = 1.3, d = 0.8, and n = 1.\n",
    "a. Verify that the price of a European put is $7.471"
   ]
  },
  {
   "cell_type": "code",
   "execution_count": 67,
   "metadata": {},
   "outputs": [],
   "source": [
    "r = 0.08       ## time step \n",
    "v = 0.50       ## volatility\n",
    "q = 0.0        ## dividend\n",
    "expiry = 1.0\n",
    "n = 1.0        ## periods\n",
    "h = expiry / n \n",
    "S = 100.0      ## spot price\n",
    "K = 95.0       ## strike price\n",
    "\n",
    "u = 1.3\n",
    "d = .8"
   ]
  },
  {
   "cell_type": "code",
   "execution_count": 68,
   "metadata": {},
   "outputs": [
    {
     "name": "stdout",
     "output_type": "stream",
     "text": [
      "6.001537509078794\n"
     ]
    }
   ],
   "source": [
    "fu = putPayoff(u * S, K)\n",
    "fd = putPayoff(d * S, K)\n",
    "D = (fu - fd)/(S * (u - d))                        ## Delta\n",
    "B = np.exp(-r * h) * ((u * fd - d * fu)/ (u - d))  ## B \n",
    "Premium = S * D + B                                ##Premium\n",
    "\n",
    "print(Premium,)\n",
    "#This is wrong. you need to look and fix it"
   ]
  },
  {
   "cell_type": "markdown",
   "metadata": {},
   "source": [
    "Problem 2 B Suppose you observe a call price of $17. What is the arbitrage?"
   ]
  },
  {
   "cell_type": "code",
   "execution_count": 69,
   "metadata": {},
   "outputs": [
    {
     "name": "stdout",
     "output_type": "stream",
     "text": [
      "1.3054846023484004\n"
     ]
    }
   ],
   "source": [
    "fu = callPayoff(u * S, K)\n",
    "fd = callPayoff(d * S, K)\n",
    "D = (fu - fd)/(S * (u - d))                        ## Delta\n",
    "B = np.exp(-r * h) * ((u * fd - d * fu)/ (u - d))  ## B \n",
    "Premium = S * D + B                                ##Premium\n",
    "arbitrage = Premium - 17\n",
    "print(arbitrage )"
   ]
  },
  {
   "cell_type": "markdown",
   "metadata": {},
   "source": [
    "Problem 2 C Suppose you observe a call price of $15.50. What is the arbitrage?"
   ]
  },
  {
   "cell_type": "code",
   "execution_count": 70,
   "metadata": {},
   "outputs": [
    {
     "name": "stdout",
     "output_type": "stream",
     "text": [
      "2.8054846023484004\n"
     ]
    }
   ],
   "source": [
    "fu = callPayoff(u * S, K)\n",
    "fd = callPayoff(d * S, K)\n",
    "D = (fu - fd)/(S * (u - d))                        ## Delta\n",
    "B = np.exp(-r * h) * ((u * fd - d * fu)/ (u - d))  ## B \n",
    "Premium = S * D + B                                ##Premium\n",
    "arbitrage = Premium - 15.5\n",
    "print(arbitrage)"
   ]
  },
  {
   "cell_type": "markdown",
   "metadata": {},
   "source": []
  },
  {
   "cell_type": "code",
   "execution_count": 4,
   "metadata": {},
   "outputs": [],
   "source": []
  },
  {
   "cell_type": "code",
   "execution_count": 8,
   "metadata": {},
   "outputs": [],
   "source": []
  },
  {
   "cell_type": "code",
   "execution_count": 11,
   "metadata": {},
   "outputs": [],
   "source": []
  },
  {
   "cell_type": "code",
   "execution_count": 42,
   "metadata": {},
   "outputs": [
    {
     "name": "stdout",
     "output_type": "stream",
     "text": [
      "38.72500328052929 -91.2749967194707 1.0\n"
     ]
    }
   ],
   "source": []
  },
  {
   "cell_type": "markdown",
   "metadata": {},
   "source": [
    "Problem 3\n",
    "Let S = $100, K = $95, σ = 30%, r = 8%, T = 1, and δ = 0.0. Let u = 1.3, d = 0.8, and n = 2. Construct\n",
    "the binomial tree for a call option. At each node provide the premium, ∆, and B.\n"
   ]
  },
  {
   "cell_type": "code",
   "execution_count": 43,
   "metadata": {},
   "outputs": [],
   "source": [
    "## First import numpy\n",
    "import numpy as np\n",
    "\n",
    "## Call Payoff Function\n",
    "def callPayoff(spot, strike):\n",
    "    return np.maximum(spot - strike, 0.0)\n",
    "\n",
    "## Put Payoff Function\n",
    "def putPayoff(spot, strike):\n",
    "    return np.maximum(strike - spot, 0.0)\n",
    "\n",
    "from scipy.stats import binom\n"
   ]
  },
  {
   "cell_type": "code",
   "execution_count": 44,
   "metadata": {},
   "outputs": [],
   "source": [
    "r = 0.08       ## time step \n",
    "v = 0.30       ## volatility\n",
    "q = 0.0        ## dividend\n",
    "expiry = 1.0\n",
    "n = 2.0        ## periods\n",
    "h = expiry / n \n",
    "S = 130.0      ## spot price\n",
    "K = 95.0       ## strike price\n",
    "\n",
    "u = 1.3\n",
    "d = .8"
   ]
  },
  {
   "cell_type": "code",
   "execution_count": 45,
   "metadata": {},
   "outputs": [
    {
     "name": "stdout",
     "output_type": "stream",
     "text": [
      "(38.7250, -91.2750, 1.0000)\n"
     ]
    }
   ],
   "source": [
    "fu = callPayoff(u * S, K)\n",
    "fd = callPayoff(d * S, K)\n",
    "D = (fu - fd)/(S * (u - d))                        ## Delta\n",
    "B = np.exp(-r * h) * ((u * fd - d * fu)/ (u - d))  ## B \n",
    "Cu = S * D + B\n",
    "print(f\"({Cu:0.4f}, {B:0.4f}, {D:0.4f})\")"
   ]
  },
  {
   "cell_type": "code",
   "execution_count": 46,
   "metadata": {},
   "outputs": [],
   "source": [
    "S = 80"
   ]
  },
  {
   "cell_type": "code",
   "execution_count": 47,
   "metadata": {},
   "outputs": [
    {
     "name": "stdout",
     "output_type": "stream",
     "text": [
      "(4.1646, -13.8354, 0.2250)\n"
     ]
    }
   ],
   "source": [
    "fu = callPayoff(u * S, K)\n",
    "fd = callPayoff(d * S, K)\n",
    "D = (fu - fd)/(S * (u - d))                        ## Delta\n",
    "B = np.exp(-r * h) * ((u * fd - d * fu)/ (u - d))  ## B \n",
    "Cd = S * D + B\n",
    "print(f\"({Cd:0.4f}, {B:0.4f}, {D:0.4f})\")"
   ]
  },
  {
   "cell_type": "code",
   "execution_count": 48,
   "metadata": {},
   "outputs": [],
   "source": [
    "n = 1\n",
    "S = 100"
   ]
  },
  {
   "cell_type": "code",
   "execution_count": 49,
   "metadata": {},
   "outputs": [
    {
     "name": "stdout",
     "output_type": "stream",
     "text": [
      "(16.1958, -53.8042, 0.7000)\n"
     ]
    }
   ],
   "source": [
    "fu = callPayoff(u * S, K)\n",
    "fd = callPayoff(d * S, K)\n",
    "D = (fu - fd)/(S * (u - d))                        ## Delta\n",
    "B = np.exp(-r * h) * ((u * fd - d * fu)/ (u - d))  ## B \n",
    "C0 = S * D + B\n",
    "print(f\"({C0:0.4f}, {B:0.4f}, {D:0.4f})\")"
   ]
  },
  {
   "cell_type": "markdown",
   "metadata": {},
   "source": [
    "Problem 4\n",
    "Repeat the option price calculation in the previous question for stock prices of $80, $90, $110, $120, and\n",
    "$130, but now let n = 3. Keep everyting else fixed. What happens to the initial option ∆ as the stock price\n",
    "increases?\n"
   ]
  },
  {
   "cell_type": "code",
   "execution_count": 50,
   "metadata": {},
   "outputs": [],
   "source": [
    "n = 3\n",
    "S = 80"
   ]
  },
  {
   "cell_type": "code",
   "execution_count": 51,
   "metadata": {},
   "outputs": [
    {
     "name": "stdout",
     "output_type": "stream",
     "text": [
      "(4.1646, -13.8354, 0.2250)\n"
     ]
    }
   ],
   "source": [
    "fu = callPayoff(u * S, K)\n",
    "fd = callPayoff(d * S, K)\n",
    "D = (fu - fd)/(S * (u - d))                        ## Delta\n",
    "B = np.exp(-r * h) * ((u * fd - d * fu)/ (u - d))  ## B \n",
    "C0 = S * D + B\n",
    "print(f\"({C0:0.4f}, {B:0.4f}, {D:0.4f})\")"
   ]
  },
  {
   "cell_type": "code",
   "execution_count": 52,
   "metadata": {},
   "outputs": [],
   "source": [
    "n = 3\n",
    "S = 90"
   ]
  },
  {
   "cell_type": "code",
   "execution_count": 53,
   "metadata": {},
   "outputs": [
    {
     "name": "stdout",
     "output_type": "stream",
     "text": [
      "(10.1802, -33.8198, 0.4889)\n"
     ]
    }
   ],
   "source": [
    "fu = callPayoff(u * S, K)\n",
    "fd = callPayoff(d * S, K)\n",
    "D = (fu - fd)/(S * (u - d))                        ## Delta\n",
    "B = np.exp(-r * h) * ((u * fd - d * fu)/ (u - d))  ## B \n",
    "C0 = S * D + B\n",
    "print(f\"({C0:0.4f}, {B:0.4f}, {D:0.4f})\")"
   ]
  },
  {
   "cell_type": "code",
   "execution_count": 54,
   "metadata": {},
   "outputs": [],
   "source": [
    "n = 3\n",
    "S = 110"
   ]
  },
  {
   "cell_type": "code",
   "execution_count": 55,
   "metadata": {},
   "outputs": [
    {
     "name": "stdout",
     "output_type": "stream",
     "text": [
      "(22.2114, -73.7886, 0.8727)\n"
     ]
    }
   ],
   "source": [
    "fu = callPayoff(u * S, K)\n",
    "fd = callPayoff(d * S, K)\n",
    "D = (fu - fd)/(S * (u - d))                        ## Delta\n",
    "B = np.exp(-r * h) * ((u * fd - d * fu)/ (u - d))  ## B \n",
    "C0 = S * D + B\n",
    "print(f\"({C0:0.4f}, {B:0.4f}, {D:0.4f})\")"
   ]
  },
  {
   "cell_type": "code",
   "execution_count": 56,
   "metadata": {},
   "outputs": [],
   "source": [
    "n = 3\n",
    "S = 120"
   ]
  },
  {
   "cell_type": "code",
   "execution_count": 57,
   "metadata": {},
   "outputs": [
    {
     "name": "stdout",
     "output_type": "stream",
     "text": [
      "(28.7250, -91.2750, 1.0000)\n"
     ]
    }
   ],
   "source": [
    "fu = callPayoff(u * S, K)\n",
    "fd = callPayoff(d * S, K)\n",
    "D = (fu - fd)/(S * (u - d))                        ## Delta\n",
    "B = np.exp(-r * h) * ((u * fd - d * fu)/ (u - d))  ## B \n",
    "C0 = S * D + B\n",
    "print(f\"({C0:0.4f}, {B:0.4f}, {D:0.4f})\")"
   ]
  },
  {
   "cell_type": "code",
   "execution_count": 58,
   "metadata": {},
   "outputs": [],
   "source": [
    "n = 3\n",
    "S = 130"
   ]
  },
  {
   "cell_type": "code",
   "execution_count": 59,
   "metadata": {},
   "outputs": [
    {
     "name": "stdout",
     "output_type": "stream",
     "text": [
      "(38.7250, -91.2750, 1.0000)\n"
     ]
    }
   ],
   "source": [
    "fu = callPayoff(u * S, K)\n",
    "fd = callPayoff(d * S, K)\n",
    "D = (fu - fd)/(S * (u - d))                        ## Delta\n",
    "B = np.exp(-r * h) * ((u * fd - d * fu)/ (u - d))  ## B \n",
    "C0 = S * D + B\n",
    "print(f\"({C0:0.4f}, {B:0.4f}, {D:0.4f})\")"
   ]
  },
  {
   "cell_type": "code",
   "execution_count": null,
   "metadata": {},
   "outputs": [],
   "source": []
  }
 ],
 "metadata": {
  "kernelspec": {
   "display_name": "Python 3",
   "language": "python",
   "name": "python3"
  },
  "language_info": {
   "codemirror_mode": {
    "name": "ipython",
    "version": 3
   },
   "file_extension": ".py",
   "mimetype": "text/x-python",
   "name": "python",
   "nbconvert_exporter": "python",
   "pygments_lexer": "ipython3",
   "version": "3.6.5"
  }
 },
 "nbformat": 4,
 "nbformat_minor": 2
}
