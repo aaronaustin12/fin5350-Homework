{
 "cells": [
  {
   "cell_type": "code",
   "execution_count": 32,
   "metadata": {},
   "outputs": [],
   "source": [
    "## First import numpy\n",
    "import numpy as np\n",
    "\n",
    "## Call Payoff Function\n",
    "def callPayoff(spot, strike):\n",
    "    return np.maximum(spot - strike, 0.0)\n",
    "\n",
    "## Put Payoff Function\n",
    "def putPayoff(spot, strike):\n",
    "    return np.maximum(strike - spot, 0.0)\n",
    "\n",
    "from scipy.stats import binom"
   ]
  },
  {
   "cell_type": "code",
   "execution_count": 127,
   "metadata": {},
   "outputs": [],
   "source": [
    "r = 0.08       ## time step \n",
    "v = 0.30       ## volatility\n",
    "q = 0.0        ## dividend\n",
    "expiry = 1.0\n",
    "n = 2.0        ## periods\n",
    "h = expiry / n \n",
    "S = 130.0      ## spot price\n",
    "K = 95.0       ## strike price\n",
    "\n",
    "u = 1.3\n",
    "d = .8"
   ]
  },
  {
   "cell_type": "code",
   "execution_count": 106,
   "metadata": {},
   "outputs": [],
   "source": []
  },
  {
   "cell_type": "code",
   "execution_count": 128,
   "metadata": {},
   "outputs": [
    {
     "name": "stdout",
     "output_type": "stream",
     "text": [
      "(38.7250, -91.2750, 1.0000)\n"
     ]
    }
   ],
   "source": [
    "fu = callPayoff(u * S, K)\n",
    "fd = callPayoff(d * S, K)\n",
    "D = (fu - fd)/(S * (u - d))                        ## Delta\n",
    "B = np.exp(-r * h) * ((u * fd - d * fu)/ (u - d))  ## B \n",
    "Cu = S * D + B\n",
    "print(f\"({Cu:0.4f}, {B:0.4f}, {D:0.4f})\")"
   ]
  },
  {
   "cell_type": "code",
   "execution_count": 130,
   "metadata": {},
   "outputs": [],
   "source": [
    "S = 80"
   ]
  },
  {
   "cell_type": "code",
   "execution_count": 131,
   "metadata": {},
   "outputs": [
    {
     "name": "stdout",
     "output_type": "stream",
     "text": [
      "(4.1646, -13.8354, 0.2250)\n"
     ]
    }
   ],
   "source": [
    "fu = callPayoff(u * S, K)\n",
    "fd = callPayoff(d * S, K)\n",
    "D = (fu - fd)/(S * (u - d))                        ## Delta\n",
    "B = np.exp(-r * h) * ((u * fd - d * fu)/ (u - d))  ## B \n",
    "Cd = S * D + B\n",
    "print(f\"({Cd:0.4f}, {B:0.4f}, {D:0.4f})\")"
   ]
  },
  {
   "cell_type": "code",
   "execution_count": 132,
   "metadata": {},
   "outputs": [],
   "source": [
    "n = 1\n",
    "S = 100"
   ]
  },
  {
   "cell_type": "code",
   "execution_count": 134,
   "metadata": {},
   "outputs": [
    {
     "name": "stdout",
     "output_type": "stream",
     "text": [
      "(16.1958, -53.8042, 0.7000)\n"
     ]
    }
   ],
   "source": [
    "fu = callPayoff(u * S, K)\n",
    "fd = callPayoff(d * S, K)\n",
    "D = (fu - fd)/(S * (u - d))                        ## Delta\n",
    "B = np.exp(-r * h) * ((u * fd - d * fu)/ (u - d))  ## B \n",
    "C0 = S * D + B\n",
    "print(f\"({C0:0.4f}, {B:0.4f}, {D:0.4f})\")"
   ]
  },
  {
   "cell_type": "markdown",
   "metadata": {},
   "source": [
    "Problem 4\n",
    "Repeat the option price calculation in the previous question for stock prices of $80, $90, $110, $120, and\n",
    "$130, but now let n = 3. Keep everyting else fixed. What happens to the initial option ∆ as the stock price\n",
    "increases?\n"
   ]
  },
  {
   "cell_type": "code",
   "execution_count": 140,
   "metadata": {},
   "outputs": [],
   "source": [
    "n = 3\n",
    "S = 80"
   ]
  },
  {
   "cell_type": "code",
   "execution_count": 141,
   "metadata": {},
   "outputs": [
    {
     "name": "stdout",
     "output_type": "stream",
     "text": [
      "(4.1646, -13.8354, 0.2250)\n"
     ]
    }
   ],
   "source": [
    "fu = callPayoff(u * S, K)\n",
    "fd = callPayoff(d * S, K)\n",
    "D = (fu - fd)/(S * (u - d))                        ## Delta\n",
    "B = np.exp(-r * h) * ((u * fd - d * fu)/ (u - d))  ## B \n",
    "C0 = S * D + B\n",
    "print(f\"({C0:0.4f}, {B:0.4f}, {D:0.4f})\")"
   ]
  },
  {
   "cell_type": "code",
   "execution_count": 142,
   "metadata": {},
   "outputs": [],
   "source": [
    "n = 3\n",
    "S = 90"
   ]
  },
  {
   "cell_type": "code",
   "execution_count": 143,
   "metadata": {},
   "outputs": [
    {
     "name": "stdout",
     "output_type": "stream",
     "text": [
      "(10.1802, -33.8198, 0.4889)\n"
     ]
    }
   ],
   "source": [
    "fu = callPayoff(u * S, K)\n",
    "fd = callPayoff(d * S, K)\n",
    "D = (fu - fd)/(S * (u - d))                        ## Delta\n",
    "B = np.exp(-r * h) * ((u * fd - d * fu)/ (u - d))  ## B \n",
    "C0 = S * D + B\n",
    "print(f\"({C0:0.4f}, {B:0.4f}, {D:0.4f})\")"
   ]
  },
  {
   "cell_type": "code",
   "execution_count": 144,
   "metadata": {},
   "outputs": [],
   "source": [
    "n = 3\n",
    "S = 110"
   ]
  },
  {
   "cell_type": "code",
   "execution_count": 145,
   "metadata": {},
   "outputs": [
    {
     "name": "stdout",
     "output_type": "stream",
     "text": [
      "(22.2114, -73.7886, 0.8727)\n"
     ]
    }
   ],
   "source": [
    "fu = callPayoff(u * S, K)\n",
    "fd = callPayoff(d * S, K)\n",
    "D = (fu - fd)/(S * (u - d))                        ## Delta\n",
    "B = np.exp(-r * h) * ((u * fd - d * fu)/ (u - d))  ## B \n",
    "C0 = S * D + B\n",
    "print(f\"({C0:0.4f}, {B:0.4f}, {D:0.4f})\")"
   ]
  },
  {
   "cell_type": "code",
   "execution_count": 146,
   "metadata": {},
   "outputs": [],
   "source": [
    "n = 3\n",
    "S = 120"
   ]
  },
  {
   "cell_type": "code",
   "execution_count": 147,
   "metadata": {},
   "outputs": [
    {
     "name": "stdout",
     "output_type": "stream",
     "text": [
      "(28.7250, -91.2750, 1.0000)\n"
     ]
    }
   ],
   "source": [
    "fu = callPayoff(u * S, K)\n",
    "fd = callPayoff(d * S, K)\n",
    "D = (fu - fd)/(S * (u - d))                        ## Delta\n",
    "B = np.exp(-r * h) * ((u * fd - d * fu)/ (u - d))  ## B \n",
    "C0 = S * D + B\n",
    "print(f\"({C0:0.4f}, {B:0.4f}, {D:0.4f})\")"
   ]
  },
  {
   "cell_type": "code",
   "execution_count": 148,
   "metadata": {},
   "outputs": [],
   "source": [
    "n = 3\n",
    "S = 130"
   ]
  },
  {
   "cell_type": "code",
   "execution_count": 149,
   "metadata": {},
   "outputs": [
    {
     "name": "stdout",
     "output_type": "stream",
     "text": [
      "(38.7250, -91.2750, 1.0000)\n"
     ]
    }
   ],
   "source": [
    "fu = callPayoff(u * S, K)\n",
    "fd = callPayoff(d * S, K)\n",
    "D = (fu - fd)/(S * (u - d))                        ## Delta\n",
    "B = np.exp(-r * h) * ((u * fd - d * fu)/ (u - d))  ## B \n",
    "C0 = S * D + B\n",
    "print(f\"({C0:0.4f}, {B:0.4f}, {D:0.4f})\")"
   ]
  }
 ],
 "metadata": {
  "kernelspec": {
   "display_name": "Python 3",
   "language": "python",
   "name": "python3"
  },
  "language_info": {
   "codemirror_mode": {
    "name": "ipython",
    "version": 3
   },
   "file_extension": ".py",
   "mimetype": "text/x-python",
   "name": "python",
   "nbconvert_exporter": "python",
   "pygments_lexer": "ipython3",
   "version": "3.6.5"
  }
 },
 "nbformat": 4,
 "nbformat_minor": 2
}
