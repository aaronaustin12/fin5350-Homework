{
 "cells": [
  {
   "cell_type": "code",
   "execution_count": 13,
   "metadata": {},
   "outputs": [],
   "source": [
    "import numpy as np\n",
    "from scipy.stats import norm"
   ]
  },
  {
   "cell_type": "code",
   "execution_count": null,
   "metadata": {},
   "outputs": [],
   "source": []
  },
  {
   "cell_type": "code",
   "execution_count": null,
   "metadata": {},
   "outputs": [],
   "source": []
  },
  {
   "cell_type": "code",
   "execution_count": 14,
   "metadata": {},
   "outputs": [],
   "source": [
    "def bsmCallDelta(spot, strike, vol, rate, tau, div):\n",
    "    d1 = (np.log(spot / strike) + (rate - div + 0.5 * vol * vol) * tau) / (vol * np.sqrt(tau))\n",
    "    delta = np.exp(-div * tau) * norm.cdf(d1)\n",
    "    \n",
    "    return delta"
   ]
  },
  {
   "cell_type": "code",
   "execution_count": 15,
   "metadata": {},
   "outputs": [],
   "source": [
    "def bsmPutDelta(spot, strike, vol, rate, tau, div):\n",
    "    d1 = (np.log(spot / strike) + (rate - div + 0.5 * vol * vol) * tau) / (vol * np.sqrt(tau))\n",
    "    delta = np.exp(-div * tau) * norm.cdf(-d1)\n",
    "\n",
    "    return delta"
   ]
  },
  {
   "cell_type": "code",
   "execution_count": 16,
   "metadata": {},
   "outputs": [],
   "source": [
    "def bsmCallGamma(spot, strike, vol, rate, tau, div):\n",
    "    d1 = (np.log(spot / strike) + (rate - div + 0.5 * vol * vol) * tau) / (vol * np.sqrt(tau))\n",
    "    gamma = (np.exp(-div * tau) * norm.cdf(-d1))/(So*(np.sqrt(div * tau)))\n",
    "\n",
    "    return gamma"
   ]
  },
  {
   "cell_type": "code",
   "execution_count": 17,
   "metadata": {},
   "outputs": [],
   "source": [
    "def bsmPutGamma(spot, strike, vol, rate, tau, div):\n",
    "    d1 = (np.log(spot / strike) + (rate - div + 0.5 * vol * vol) * tau) / (vol * np.sqrt(tau))\n",
    "    gamma = (np.exp(-div * tau) * norm.cdf(-d1))/(So*(np.sqrt(div * tau)))\n",
    "\n",
    "    return gamma"
   ]
  },
  {
   "cell_type": "code",
   "execution_count": 18,
   "metadata": {},
   "outputs": [],
   "source": [
    "def bsmCallTheta(spot, strike, vol, rate, tau, div):\n",
    "    d1 = (np.log(spot / strike) + (rate - div + 0.5 * vol * vol) * tau) / (vol * np.sqrt(tau))\n",
    "    d2= d1 - (vol * np.sqrt(expiry))\n",
    "    part2 =(K*np.exp(-r(-div * tau))*norm.dcd(d2)*o)/(2*np.sqrt(-div * tau))  \n",
    "    theta = oS* np.exp(-div * tau) * norm.cdf(-d1)-r*K*np.exp(-r(-div * tau))*norm.cdf(d2)- (part2)                                                                           \n",
    "                                                                                            \n",
    "    return thteta"
   ]
  },
  {
   "cell_type": "code",
   "execution_count": 19,
   "metadata": {},
   "outputs": [],
   "source": [
    "def bsmPutTheta(spot, strike, vol, rate, tau, div):\n",
    "    d1 = (np.log(spot / strike) + (rate - div + 0.5 * vol * vol) * tau) / (vol * np.sqrt(tau))\n",
    "    d2= d1 - (vol * np.sqrt(expiry))\n",
    "    part2 =(K*np.exp(-r(-div * tau))*norm.dcd(d2)*o)/(2*np.sqrt(-div * tau))  \n",
    "    theta = oS* np.exp(-div * tau) * norm.cdf(-d1)-r*K*np.exp(-r(-div * tau))*norm.cdf(d2)- (part2)+ r*K* np.exp(-r(-div * tau))- o *S * np.exp(-div * tau)                                                                          \n",
    "                                                                                            \n",
    "    return thteta"
   ]
  },
  {
   "cell_type": "code",
   "execution_count": 20,
   "metadata": {},
   "outputs": [],
   "source": [
    "def bsmCallVega(spot, strike, vol, rate, tau, div):\n",
    "    d1 = S (np.log(spot / strike) + (rate - div + 0.5 * vol * vol) * tau) / (vol * np.sqrt(tau))\n",
    "    vega = S* np.exp(-div * tau)* norm.cdf(d1)* np.sqrt(-div * tau) \n",
    "\n",
    "    return vega"
   ]
  },
  {
   "cell_type": "code",
   "execution_count": 21,
   "metadata": {},
   "outputs": [],
   "source": [
    "def bsmPutVega(spot, strike, vol, rate, tau, div):\n",
    "    d1 = (np.log(spot / strike) + (rate - div + 0.5 * vol * vol) * tau) / (vol * np.sqrt(tau))\n",
    "    vega = S* np.exp(-div * tau)* norm.cdf(d1)* np.sqrt(-div * tau) \n",
    "\n",
    "    return vega"
   ]
  },
  {
   "cell_type": "code",
   "execution_count": 22,
   "metadata": {},
   "outputs": [],
   "source": [
    "def bsmCallRho(spot,strike,vol, rate, tau, div):\n",
    "    d2 = d1 - (vol * np.sqrt(expiry))\n",
    "    Rho = (-div * tau) * K*np.exp(-r(-div * tau)) * norm.cdf(d2)\n",
    "    \n",
    "    return Rho"
   ]
  },
  {
   "cell_type": "code",
   "execution_count": 23,
   "metadata": {},
   "outputs": [],
   "source": [
    "def bsmPutRho(spot,strike,vol, rate, tau, div):\n",
    "    d2 = d1 - (vol * np.sqrt(expiry))\n",
    "    Rho = -(-div * tau) * K*np.exp(-r(-div * tau)) * norm.cdf(d2)\n",
    "    \n",
    "    return Rho"
   ]
  },
  {
   "cell_type": "code",
   "execution_count": null,
   "metadata": {},
   "outputs": [],
   "source": []
  },
  {
   "cell_type": "code",
   "execution_count": null,
   "metadata": {},
   "outputs": [],
   "source": []
  },
  {
   "cell_type": "code",
   "execution_count": null,
   "metadata": {},
   "outputs": [],
   "source": []
  },
  {
   "cell_type": "markdown",
   "metadata": {},
   "source": [
    "Problem 2\n",
    "Using the same basic data above, plus an initial stock price of S0 = $41.0 simulate five daily prices\n",
    "(sequentially), using the following:\n",
    "St+h = St exp {(r − δ −\n",
    "1\n",
    "2\n",
    "σ\n",
    "2\n",
    ")h + σ\n",
    "√\n",
    "hZ}\n"
   ]
  },
  {
   "cell_type": "code",
   "execution_count": 25,
   "metadata": {},
   "outputs": [
    {
     "ename": "SyntaxError",
     "evalue": "unexpected EOF while parsing (<ipython-input-25-5f5001a26579>, line 3)",
     "output_type": "error",
     "traceback": [
      "\u001b[1;36m  File \u001b[1;32m\"<ipython-input-25-5f5001a26579>\"\u001b[1;36m, line \u001b[1;32m3\u001b[0m\n\u001b[1;33m    Sth = St * np.exp ((r - O - (0.5 * o^2)* h + o*(np.sqrt(h)*z)\u001b[0m\n\u001b[1;37m                                                                                                               ^\u001b[0m\n\u001b[1;31mSyntaxError\u001b[0m\u001b[1;31m:\u001b[0m unexpected EOF while parsing\n"
     ]
    }
   ],
   "source": [
    "def Sth(spot, strike, vol, rate, tau, div): \n",
    "    z = np.random.normal(size=1)\n",
    "    Sth = St * np.exp ((r - O - (0.5 * o^2)* h + o*(np.sqrt(h)*z)                                              "
   ]
  },
  {
   "cell_type": "code",
   "execution_count": null,
   "metadata": {},
   "outputs": [],
   "source": []
  },
  {
   "cell_type": "code",
   "execution_count": null,
   "metadata": {},
   "outputs": [],
   "source": []
  }
 ],
 "metadata": {
  "kernelspec": {
   "display_name": "Python 3",
   "language": "python",
   "name": "python3"
  },
  "language_info": {
   "codemirror_mode": {
    "name": "ipython",
    "version": 3
   },
   "file_extension": ".py",
   "mimetype": "text/x-python",
   "name": "python",
   "nbconvert_exporter": "python",
   "pygments_lexer": "ipython3",
   "version": "3.6.5"
  }
 },
 "nbformat": 4,
 "nbformat_minor": 2
}
